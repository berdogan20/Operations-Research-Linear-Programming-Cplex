{
 "cells": [
  {
   "cell_type": "markdown",
   "metadata": {},
   "source": [
    "# Introduction to Commercial Optimization Solvers\n",
    "## Mehmet Gönen\n",
    "## October 24, 2022"
   ]
  },
  {
   "cell_type": "markdown",
   "metadata": {},
   "source": [
    "The CPLEX Python API is a Python package named **cplex** that allows the Callable Library to be accessed from the Python programming language. It is equally suitable for interactive use through the Python interpreter or for writing scripts or full-fledged applications."
   ]
  },
  {
   "cell_type": "code",
   "execution_count": 1,
   "metadata": {},
   "outputs": [],
   "source": [
    "# load libraries\n",
    "import numpy as np\n",
    "import scipy.sparse as sp\n",
    "\n",
    "import cplex as cp"
   ]
  },
  {
   "cell_type": "markdown",
   "metadata": {},
   "source": [
    "## Solving an LP problem\n",
    "\\begin{align*}\n",
    "\\mbox{maximize} \\;\\;& 3x_{1} + 5x_{2} \\\\\n",
    "\\mbox{subject to:} \\;\\;& 1x_{1} + 0x_{2} \\leq 4 \\\\\n",
    "\\;\\;& 0x_{1} + 2x_{2} \\leq 12 \\\\\n",
    "\\;\\;& 3x_{1} + 2x_{2} \\leq 18 \\\\\n",
    "\\;\\;& x_{1} \\geq 0 \\\\\n",
    "\\;\\;& x_{2} \\geq 0\n",
    "\\end{align*}"
   ]
  },
  {
   "cell_type": "markdown",
   "metadata": {},
   "source": [
    "### Method 1"
   ]
  },
  {
   "cell_type": "code",
   "execution_count": 2,
   "metadata": {},
   "outputs": [
    {
     "name": "stdout",
     "output_type": "stream",
     "text": [
      "\\ENCODING=ISO-8859-1\n",
      "\\Problem name: prob1\n",
      "\n",
      "Maximize\n",
      " profit: 3 x1 + 5 x2\n",
      "Subject To\n",
      " c1: x1 <= 4\n",
      " c2: 2 x2 <= 12\n",
      " c3: 3 x1 + 2 x2 <= 18\n",
      "End\n",
      "\n",
      "Version identifier: 20.1.0.1 | 2022-01-05 | 9df5e5246\n",
      "CPXPARAM_Read_DataCheck                          1\n",
      "Tried aggregator 1 time.\n",
      "LP Presolve eliminated 2 rows and 0 columns.\n",
      "Reduced LP has 1 rows, 2 columns, and 2 nonzeros.\n",
      "Presolve time = 0.00 sec. (0.00 ticks)\n",
      "\n",
      "Iteration log . . .\n",
      "Iteration:     1   Dual objective     =            36.000000\n",
      "1\n",
      "optimal\n",
      "[2.0, 6.0]\n",
      "36.0\n"
     ]
    }
   ],
   "source": [
    "# create an empty optimization problem\n",
    "prob1 = cp.Cplex()\n",
    "prob1.set_problem_name(\"prob1\")\n",
    "\n",
    "# add decision variables to the problem including their coefficients in objective, ranges, and names\n",
    "prob1.variables.add(obj = [3, 5], lb = [0, 0], ub = [cp.infinity, cp.infinity],\n",
    "                    names = [\"x1\", \"x2\"])\n",
    "\n",
    "# define problem type\n",
    "prob1.objective.set_name(\"profit\")\n",
    "prob1.objective.set_sense(prob1.objective.sense.maximize)\n",
    "\n",
    "# add constraints to the problem including their directions, right-hand side values, and names\n",
    "prob1.linear_constraints.add(senses = [\"L\", \"L\", \"L\"],\n",
    "                             rhs = [4, 12, 18],\n",
    "                             names = [\"c1\", \"c2\", \"c3\"])\n",
    "\n",
    "# add coefficients for each constraint\n",
    "prob1.linear_constraints.set_coefficients(0, 0, 1)\n",
    "prob1.linear_constraints.set_coefficients(1, 1, 2)\n",
    "prob1.linear_constraints.set_coefficients(2, 0, 3)\n",
    "prob1.linear_constraints.set_coefficients(2, 1, 2)\n",
    "\n",
    "# display the problem\n",
    "print(prob1.write_as_string())\n",
    "\n",
    "# solve the problem\n",
    "prob1.solve()\n",
    "\n",
    "# check the solution status\n",
    "print(prob1.solution.get_status())\n",
    "print(prob1.solution.status[prob1.solution.get_status()])\n",
    "\n",
    "# check the solution\n",
    "x_star = prob1.solution.get_values()\n",
    "obj_star = prob1.solution.get_objective_value()\n",
    "print(x_star)\n",
    "print(obj_star)\n",
    "\n",
    "# print the problem to a file\n",
    "prob1.write(\"prob1.lp\")\n",
    "prob1.write(\"prob1.mps\")"
   ]
  },
  {
   "cell_type": "code",
   "execution_count": 3,
   "metadata": {},
   "outputs": [
    {
     "name": "stdout",
     "output_type": "stream",
     "text": [
      "\\ENCODING=ISO-8859-1\n",
      "\\Problem name: prob1_copy\n",
      "\n",
      "Maximize\n",
      " profit: 3 x1 + 5 x2\n",
      "Subject To\n",
      " c1: x1 <= 4\n",
      " c2: 2 x2 <= 12\n",
      " c3: 3 x1 + 2 x2 <= 18\n",
      "End\n",
      "\n",
      "Version identifier: 20.1.0.1 | 2022-01-05 | 9df5e5246\n",
      "CPXPARAM_Read_DataCheck                          1\n",
      "Tried aggregator 1 time.\n",
      "LP Presolve eliminated 2 rows and 0 columns.\n",
      "Reduced LP has 1 rows, 2 columns, and 2 nonzeros.\n",
      "Presolve time = 0.00 sec. (0.00 ticks)\n",
      "\n",
      "Iteration log . . .\n",
      "Iteration:     1   Dual objective     =            36.000000\n",
      "1\n",
      "optimal\n",
      "[2.0, 6.0]\n",
      "36.0\n"
     ]
    }
   ],
   "source": [
    "# create an empty optimization problem\n",
    "prob1_copy = cp.Cplex()\n",
    "\n",
    "# read the problem from a file \n",
    "prob1_copy.read(\"prob1.lp\")\n",
    "prob1_copy.set_problem_name(\"prob1_copy\")\n",
    "\n",
    "# display the problem\n",
    "print(prob1_copy.write_as_string())\n",
    "\n",
    "# solve the problem\n",
    "prob1_copy.solve()\n",
    "\n",
    "# check the solution status\n",
    "print(prob1_copy.solution.get_status())\n",
    "print(prob1_copy.solution.status[prob1.solution.get_status()])\n",
    "\n",
    "# check the solution\n",
    "x_star = prob1_copy.solution.get_values()\n",
    "obj_star = prob1_copy.solution.get_objective_value()\n",
    "print(x_star)\n",
    "print(obj_star)"
   ]
  },
  {
   "cell_type": "markdown",
   "metadata": {},
   "source": [
    "### Algebraic Representation\n",
    "\\begin{align*}\n",
    "\\mbox{maximize} \\;\\;& \\boldsymbol{c}^{\\top} \\boldsymbol{x}\\\\\n",
    "\\mbox{subject to:} \\;\\;& \\mathbf{A} \\boldsymbol{x} \\leq \\boldsymbol{b} \\\\\n",
    "\\;\\;& \\boldsymbol{l} \\leq \\boldsymbol{x} \\leq \\boldsymbol{u}\n",
    "\\end{align*}"
   ]
  },
  {
   "cell_type": "code",
   "execution_count": 4,
   "metadata": {},
   "outputs": [],
   "source": [
    "c = np.array([3, 5])\n",
    "A = sp.csr_matrix(np.array([[1, 0],\n",
    "                            [0, 2],\n",
    "                            [3, 2]]))\n",
    "senses = np.array([\"L\", \"L\", \"L\"])\n",
    "b = np.array([4, 12, 18])\n",
    "l = np.array([0, 0])\n",
    "u = np.array([cp.infinity, cp.infinity])\n",
    "\n",
    "variable_names = [\"x{}\".format(i + 1) for i in range(c.size)]\n",
    "constraint_names = [\"c{}\".format(i + 1) for i in range(b.size)]"
   ]
  },
  {
   "cell_type": "markdown",
   "metadata": {},
   "source": [
    "### Method 2"
   ]
  },
  {
   "cell_type": "code",
   "execution_count": 5,
   "metadata": {},
   "outputs": [
    {
     "name": "stdout",
     "output_type": "stream",
     "text": [
      "\\ENCODING=ISO-8859-1\n",
      "\\Problem name: prob2\n",
      "\n",
      "Maximize\n",
      " profit: 3 x1 + 5 x2\n",
      "Subject To\n",
      " c1: x1 <= 4\n",
      " c2: 2 x2 <= 12\n",
      " c3: 3 x1 + 2 x2 <= 18\n",
      "End\n",
      "\n",
      "Version identifier: 20.1.0.1 | 2022-01-05 | 9df5e5246\n",
      "CPXPARAM_Read_DataCheck                          1\n",
      "Tried aggregator 1 time.\n",
      "LP Presolve eliminated 2 rows and 0 columns.\n",
      "Reduced LP has 1 rows, 2 columns, and 2 nonzeros.\n",
      "Presolve time = 0.00 sec. (0.00 ticks)\n",
      "\n",
      "Iteration log . . .\n",
      "Iteration:     1   Dual objective     =            36.000000\n",
      "1\n",
      "optimal\n",
      "[2.0, 6.0]\n",
      "36.0\n"
     ]
    }
   ],
   "source": [
    "# create an empty optimization problem\n",
    "prob2 = cp.Cplex()\n",
    "prob2.set_problem_name(\"prob2\")\n",
    "\n",
    "# add decision variables to the problem including their coefficients in objective and ranges\n",
    "prob2.variables.add(obj = c.tolist(), lb = l.tolist(), ub = u.tolist(),\n",
    "                    names = variable_names)\n",
    "\n",
    "# define problem type\n",
    "prob2.objective.set_name(\"profit\")\n",
    "prob2.objective.set_sense(prob2.objective.sense.maximize)\n",
    "\n",
    "# add constraints to the problem including their directions and right-hand side values\n",
    "prob2.linear_constraints.add(senses = senses.tolist(),\n",
    "                             rhs = b.tolist(),\n",
    "                             names = constraint_names)\n",
    "\n",
    "# add coefficients for each constraint\n",
    "row_indices, col_indices = A.nonzero()\n",
    "prob2.linear_constraints.set_coefficients(zip(row_indices.tolist(),\n",
    "                                              col_indices.tolist(),\n",
    "                                              A.data.tolist()))\n",
    "\n",
    "# display the problem\n",
    "print(prob2.write_as_string())\n",
    "\n",
    "# solve the problem\n",
    "prob2.solve()\n",
    "\n",
    "# check the solution status\n",
    "print(prob2.solution.get_status())\n",
    "print(prob2.solution.status[prob2.solution.get_status()])\n",
    "\n",
    "# check the solution\n",
    "x_star = prob2.solution.get_values()\n",
    "obj_star = prob2.solution.get_objective_value()\n",
    "print(x_star)\n",
    "print(obj_star)"
   ]
  }
 ],
 "metadata": {
  "kernelspec": {
   "display_name": "Python 3 (ipykernel)",
   "language": "python",
   "name": "python3"
  },
  "language_info": {
   "codemirror_mode": {
    "name": "ipython",
    "version": 3
   },
   "file_extension": ".py",
   "mimetype": "text/x-python",
   "name": "python",
   "nbconvert_exporter": "python",
   "pygments_lexer": "ipython3",
   "version": "3.9.6"
  }
 },
 "nbformat": 4,
 "nbformat_minor": 4
}
